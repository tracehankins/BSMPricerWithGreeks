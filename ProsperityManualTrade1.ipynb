{
  "nbformat": 4,
  "nbformat_minor": 0,
  "metadata": {
    "colab": {
      "provenance": []
    },
    "kernelspec": {
      "name": "python3",
      "display_name": "Python 3"
    },
    "language_info": {
      "name": "python"
    }
  },
  "cells": [
    {
      "cell_type": "code",
      "source": [
        "import numpy as np\n",
        "import matplotlib.pyplot as plt"
      ],
      "metadata": {
        "id": "FCacISggHOMY"
      },
      "execution_count": null,
      "outputs": []
    },
    {
      "cell_type": "code",
      "source": [
        "start = 900\n",
        "end = 1000\n",
        "\n",
        "probabilities = np.linspace(0, 1.988888, end - start + 1)\n",
        "probabilities\n",
        "np.sum(probabilities)"
      ],
      "metadata": {
        "colab": {
          "base_uri": "https://localhost:8080/"
        },
        "id": "1ZTn6E6iN0rq",
        "outputId": "c458110d-a6f0-4a9a-ed3c-c16a2f6f783f"
      },
      "execution_count": null,
      "outputs": [
        {
          "output_type": "execute_result",
          "data": {
            "text/plain": [
              "100.43884400000002"
            ]
          },
          "metadata": {},
          "execution_count": 72
        }
      ]
    },
    {
      "cell_type": "code",
      "source": [
        "start = 900\n",
        "end = 1000\n",
        "dataset_size = 5000\n",
        "\n",
        "probabilities = np.linspace(0, 1, end - start + 1)\n",
        "reserve_prices = np.random.choice(np.arange(start, end + 1), size=dataset_size, p=probabilities / np.sum(probabilities))"
      ],
      "metadata": {
        "id": "0kG9xY-mWuYX"
      },
      "execution_count": null,
      "outputs": []
    },
    {
      "cell_type": "code",
      "source": [
        "def simulate_trade(low_bid, high_bid):\n",
        "  total_profit = 0\n",
        "  # Simulate the reserve prices of the goldfish\n",
        "\n",
        "  # probabilities = np.linspace(0, 1.988888, end - start + 1)\n",
        "\n",
        "  # print(probabilities)\n",
        "\n",
        "  # print(\"prob sum\", np.sum(probabilities))\n",
        "  # print(\"probabilities (raw)\")\n",
        "  # print(probabilities)\n",
        "  # print(\"probabilities\")\n",
        "  # print(probabilities / np.sum(probabilities) * 100)\n",
        "\n",
        "\n",
        "  # print('reserve prices')\n",
        "  # # print(np.array2string(reserve_prices))\n",
        "  # plt.hist(reserve_prices,  edgecolor='black')  # You can adjust the number of bins for more or less granularity\n",
        "  # plt.title('Distribution of Numbers')\n",
        "  # plt.xlabel('Value')\n",
        "  # plt.ylabel('Frequency')\n",
        "  # plt.show()\n",
        "    # reserve_prices = np.random.choice(np.arange(start, end + 1), size=dataset_size, p=probabilities)\n",
        "\n",
        "  # Offer the prices to the goldfish\n",
        "  for price in reserve_prices:\n",
        "    if price <= low_bid:\n",
        "      total_profit += 1000 - low_bid\n",
        "    elif price <= high_bid:\n",
        "      total_profit += 1000 - high_bid\n",
        "    # if low_bid <= price <= high_bid:\n",
        "      # total_profit += 1000 - price\n",
        "\n",
        "\n",
        "  return total_profit"
      ],
      "metadata": {
        "id": "lH1VtHufMmHU"
      },
      "execution_count": null,
      "outputs": []
    },
    {
      "cell_type": "code",
      "source": [
        "# def find_optimal_prices(max_iterations=1000):\n",
        "#   best_low_bid = 900\n",
        "#   best_high_bid = 1000\n",
        "#   best_total_profit = simulate_trade(best_low_bid, best_high_bid)\n",
        "#   for _ in range(max_iterations):\n",
        "#     low_bid = np.random. uniform (900, 1000)\n",
        "#     high_bid = np.random.uniform(low_bid, 1000)\n",
        "#     total_profit = simulate_trade(low_bid, high_bid)\n",
        "\n",
        "#     if total_profit > best_total_profit:\n",
        "#       best_low_bid = low_bid\n",
        "#       best_high_bid = high_bid\n",
        "#       best_total_profit = total_profit\n",
        "#     # break\n",
        "\n",
        "#   return best_low_bid, best_high_bid, best_total_profit"
      ],
      "metadata": {
        "id": "uKIzzAGhNHyt"
      },
      "execution_count": null,
      "outputs": []
    },
    {
      "cell_type": "code",
      "source": [
        "def find_optimal_prices():\n",
        "  for low in range(100):\n",
        "    for high in range(100):\n",
        "      exp_prof = calc_exp_prof(900 + low, 900 + high)\n",
        "      if exp_prof > max_prof:\n",
        "        max_prof = exp_prof\n",
        "        max_pair = (900 + low, 900 + high)"
      ],
      "metadata": {
        "id": "WHewgyVuXjWa"
      },
      "execution_count": null,
      "outputs": []
    },
    {
      "cell_type": "code",
      "source": [
        "low_bid, high_bid, total_profit = find_optimal_prices()"
      ],
      "metadata": {
        "id": "-kV-mngVNaF6"
      },
      "execution_count": null,
      "outputs": []
    },
    {
      "cell_type": "code",
      "source": [],
      "metadata": {
        "id": "SaePLFN5Xi8Z"
      },
      "execution_count": null,
      "outputs": []
    },
    {
      "cell_type": "code",
      "source": [
        "print(\"low_bid\", low_bid)\n",
        "print('high_bid', high_bid)\n",
        "print('total_profit', total_profit)"
      ],
      "metadata": {
        "id": "tcyZ6-mENdZD"
      },
      "execution_count": null,
      "outputs": []
    },
    {
      "cell_type": "markdown",
      "source": [
        "EXCPECTED VALUE TEST"
      ],
      "metadata": {
        "id": "eIq6vK3tT3hU"
      }
    },
    {
      "cell_type": "code",
      "source": [
        "probabilities = np.linspace(0, 1, end - start + 1)\n",
        "probabilities = probabilities / np.sum(probabilities)\n",
        "print(probabilities)"
      ],
      "metadata": {
        "colab": {
          "base_uri": "https://localhost:8080/"
        },
        "id": "pjLXGJ0xPnom",
        "outputId": "52972a05-3e23-47ae-9dd2-1543be016d8a"
      },
      "execution_count": null,
      "outputs": [
        {
          "output_type": "stream",
          "name": "stdout",
          "text": [
            "[0.         0.00019802 0.00039604 0.00059406 0.00079208 0.0009901\n",
            " 0.00118812 0.00138614 0.00158416 0.00178218 0.0019802  0.00217822\n",
            " 0.00237624 0.00257426 0.00277228 0.0029703  0.00316832 0.00336634\n",
            " 0.00356436 0.00376238 0.0039604  0.00415842 0.00435644 0.00455446\n",
            " 0.00475248 0.0049505  0.00514851 0.00534653 0.00554455 0.00574257\n",
            " 0.00594059 0.00613861 0.00633663 0.00653465 0.00673267 0.00693069\n",
            " 0.00712871 0.00732673 0.00752475 0.00772277 0.00792079 0.00811881\n",
            " 0.00831683 0.00851485 0.00871287 0.00891089 0.00910891 0.00930693\n",
            " 0.00950495 0.00970297 0.00990099 0.01009901 0.01029703 0.01049505\n",
            " 0.01069307 0.01089109 0.01108911 0.01128713 0.01148515 0.01168317\n",
            " 0.01188119 0.01207921 0.01227723 0.01247525 0.01267327 0.01287129\n",
            " 0.01306931 0.01326733 0.01346535 0.01366337 0.01386139 0.01405941\n",
            " 0.01425743 0.01445545 0.01465347 0.01485149 0.0150495  0.01524752\n",
            " 0.01544554 0.01564356 0.01584158 0.0160396  0.01623762 0.01643564\n",
            " 0.01663366 0.01683168 0.0170297  0.01722772 0.01742574 0.01762376\n",
            " 0.01782178 0.0180198  0.01821782 0.01841584 0.01861386 0.01881188\n",
            " 0.0190099  0.01920792 0.01940594 0.01960396 0.01980198]\n"
          ]
        }
      ]
    },
    {
      "cell_type": "code",
      "source": [
        "print(len(probabilities))"
      ],
      "metadata": {
        "colab": {
          "base_uri": "https://localhost:8080/"
        },
        "id": "izKobwdoWWUs",
        "outputId": "aed024ca-4c5e-46d7-e23d-9d2b53cade40"
      },
      "execution_count": null,
      "outputs": [
        {
          "output_type": "stream",
          "name": "stdout",
          "text": [
            "101\n"
          ]
        }
      ]
    },
    {
      "cell_type": "code",
      "source": [
        "print(np.sum(probabilities[:50]))\n",
        "print(np.sum(probabilities[:51]))\n",
        "print(np.sum(probabilities[:52]))\n",
        "\n",
        "print(np.sum(probabilities[:78]))\n",
        "print(np.sum(probabilities[:79]))\n",
        "print(np.sum(probabilities[:80]))"
      ],
      "metadata": {
        "colab": {
          "base_uri": "https://localhost:8080/"
        },
        "id": "_Q66952TXrfK",
        "outputId": "ae67bbaf-780d-4e0b-8e0c-69a17686584f"
      },
      "execution_count": null,
      "outputs": [
        {
          "output_type": "stream",
          "name": "stdout",
          "text": [
            "12.25\n",
            "12.75\n",
            "13.26\n",
            "30.03\n",
            "30.810000000000002\n",
            "31.6\n"
          ]
        }
      ]
    },
    {
      "cell_type": "code",
      "source": [
        "def calc_exp_prof(low_bid, high_bid):\n",
        "  # calculate low\n",
        "  prof_low = 1000 - low_bid\n",
        "  low_ind = low_bid - 900\n",
        "  exp_low = np.sum(probabilities[:low_ind]) * prof_low\n",
        "\n",
        "  print(\"low_ind\", low_ind)\n",
        "\n",
        "  # calc high\n",
        "  prof_high = 1000 - high_bid\n",
        "  high_ind = high_bid - 900\n",
        "  exp_high = (np.sum(probabilities[:high_ind]) - np.sum(probabilities[:low_ind])) * prof_high\n",
        "\n",
        "  print(\"high_ind\", high_ind)\n",
        "\n",
        "  return exp_low + exp_high"
      ],
      "metadata": {
        "id": "9pFNMogtUAZB"
      },
      "execution_count": null,
      "outputs": []
    },
    {
      "cell_type": "code",
      "source": [
        "calc_exp_prof(952, 978)"
      ],
      "metadata": {
        "colab": {
          "base_uri": "https://localhost:8080/"
        },
        "id": "V3_W6HTaVItt",
        "outputId": "d6c4f5af-c2b8-4ad1-c689-11455a320582"
      },
      "execution_count": null,
      "outputs": [
        {
          "output_type": "execute_result",
          "data": {
            "text/plain": [
              "19.909306930693077"
            ]
          },
          "metadata": {},
          "execution_count": 38
        }
      ]
    },
    {
      "cell_type": "code",
      "source": [
        "max_prof = 0\n",
        "max_pair = (0, 0)\n",
        "\n",
        "for low in range(100):\n",
        "  for high in range(100):\n",
        "    exp_prof = calc_exp_prof(900 + low, 900 + high)\n",
        "    if exp_prof > max_prof:\n",
        "      max_prof = exp_prof\n",
        "      max_pair = (900 + low, 900 + high)\n"
      ],
      "metadata": {
        "id": "GT12XhLhV3x-"
      },
      "execution_count": null,
      "outputs": []
    },
    {
      "cell_type": "code",
      "source": [
        "print(max_prof)\n",
        "print(max_pair)"
      ],
      "metadata": {
        "colab": {
          "base_uri": "https://localhost:8080/"
        },
        "id": "R6cVYnJPWNuc",
        "outputId": "51e84f21-97eb-46e4-d570-413c8b855eb7"
      },
      "execution_count": null,
      "outputs": [
        {
          "output_type": "stream",
          "name": "stdout",
          "text": [
            "19.909306930693077\n",
            "(952, 978)\n"
          ]
        }
      ]
    },
    {
      "cell_type": "code",
      "source": [
        "# Initialize variables to store the maximum profit and corresponding low_bid and high_bid\n",
        "max_profit = float('-inf')\n",
        "best_low_bid = None\n",
        "best_high_bid = None\n",
        "\n",
        "# Loop through every combination of low_bid and high_bid\n",
        "for low_bid in range(900, 999):\n",
        "    for high_bid in range(low_bid, 1000):\n",
        "        # Calculate profit for the current combination\n",
        "        profit = calc_exp_prof(low_bid, high_bid)\n",
        "\n",
        "        # Update maximum profit and corresponding low_bid and high_bid if the current profit is higher\n",
        "        if profit > max_profit:\n",
        "            max_profit = profit\n",
        "            best_low_bid = low_bid\n",
        "            best_high_bid = high_bid\n",
        "\n",
        "# Print the combination with the highest profit\n",
        "print(\"Best Low Bid:\", best_low_bid)\n",
        "print(\"Best High Bid:\", best_high_bid)\n",
        "print(\"Max Profit:\", max_profit)"
      ],
      "metadata": {
        "colab": {
          "base_uri": "https://localhost:8080/"
        },
        "id": "LkaeILZLYQEb",
        "outputId": "8030fb87-e8cc-44ed-9a24-5061cafba946"
      },
      "execution_count": null,
      "outputs": [
        {
          "output_type": "stream",
          "name": "stdout",
          "text": [
            "Best Low Bid: 952\n",
            "Best High Bid: 978\n",
            "Max Profit: 19.909306930693077\n"
          ]
        }
      ]
    },
    {
      "cell_type": "markdown",
      "source": [
        "IGNORE\n"
      ],
      "metadata": {
        "id": "usR1009mMmhz"
      }
    },
    {
      "cell_type": "code",
      "execution_count": null,
      "metadata": {
        "colab": {
          "base_uri": "https://localhost:8080/"
        },
        "id": "EcfDiCmlHHzp",
        "outputId": "a4720540-5dea-4e39-c602-457553da63e5"
      },
      "outputs": [
        {
          "output_type": "stream",
          "name": "stdout",
          "text": [
            "[ 900.        900.010001  900.020002 ...  999.979998  999.989999\n",
            " 1000.      ]\n",
            "Total Purchases: 7000, Total Profit: 385003.50035003497\n"
          ]
        }
      ],
      "source": [
        "def simulate_trades(low_bid, high_bid, num_goldfish=10000):\n",
        "    \"\"\"\n",
        "    Simulate trading scenario with goldfish having linearly distributed reserve prices.\n",
        "\n",
        "    Parameters:\n",
        "    - low_bid: The lowest bid you're willing to make.\n",
        "    - high_bid: The highest bid you're willing to make.\n",
        "    - num_goldfish: The number of goldfish in the simulation.\n",
        "\n",
        "    Returns:\n",
        "    - total_purchases: Total number of successful purchases.\n",
        "    - total_profit: Total profit from the trades.\n",
        "    \"\"\"\n",
        "    # Ensure the bids are within the logical range\n",
        "    if low_bid < 900 or high_bid > 1000 or low_bid > high_bid:\n",
        "        return \"Invalid bid range. Please set bids within 900 to 1000 SeaShells, with low_bid <= high_bid.\"\n",
        "\n",
        "    # Generate reserve prices for goldfish\n",
        "    # Since the probability increases linearly towards 1000, use a linear transformation of uniform distribution\n",
        "    reserve_prices = np.linspace(900, 1000, num_goldfish)\n",
        "\n",
        "    print(reserve_prices)\n",
        "\n",
        "    # Filter successful purchases where the bid is within the range of reserve prices\n",
        "    successful_purchases = reserve_prices[(reserve_prices >= low_bid) & (reserve_prices <= high_bid)]\n",
        "\n",
        "    # Calculate profits: Selling price (1000) - Purchase price, for each successful purchase\n",
        "    profits = 1000 - successful_purchases\n",
        "\n",
        "    # Results\n",
        "    total_purchases = len(successful_purchases)\n",
        "    total_profit = np.sum(profits)\n",
        "\n",
        "    return total_purchases, total_profit\n",
        "\n"
      ]
    },
    {
      "cell_type": "code",
      "source": [
        "def generate_reserve_prices(num_goldfish=10000):\n",
        "    \"\"\"\n",
        "    Generates reserve prices for goldfish based on a linearly increasing probability\n",
        "    from 900 to 1000.\n",
        "    \"\"\"\n",
        "    # Generate uniform random numbers between 0 and 1\n",
        "    uniform_randoms = np.random.rand(num_goldfish)\n",
        "\n",
        "    # Transform the uniform distribution to a linearly increasing distribution\n",
        "    # The transformation is designed so that the result is more likely to be close to 1000 than 900.\n",
        "    reserve_prices = 900 + (np.sqrt(uniform_randoms) * 100)\n",
        "\n",
        "    return reserve_prices\n",
        "\n",
        "def simulate_trades(low_bid, high_bid, num_goldfish=10000):\n",
        "    \"\"\"\n",
        "    Simulate trading scenario with goldfish having random reserve prices\n",
        "    distributed such that 900 is least likely and 1000 is most likely.\n",
        "\n",
        "    Parameters:\n",
        "    - low_bid: The lowest bid you're willing to make.\n",
        "    - high_bid: The highest bid you're willing to make.\n",
        "    - num_goldfish: The number of goldfish in the simulation.\n",
        "\n",
        "    Returns:\n",
        "    - total_purchases: Total number of successful purchases.\n",
        "    - total_profit: Total profit from the trades.\n",
        "    \"\"\"\n",
        "    if low_bid < 900 or high_bid > 1000 or low_bid > high_bid:\n",
        "        return \"Invalid bid range. Please set bids within 900 to 1000 SeaShells, with low_bid <= high_bid.\"\n",
        "\n",
        "    # Generate reserve prices\n",
        "    reserve_prices = generate_reserve_prices(num_goldfish)\n",
        "\n",
        "    # Determine successful purchases\n",
        "    successful_purchases = reserve_prices[(reserve_prices >= low_bid) & (reserve_prices <= high_bid)]\n",
        "\n",
        "    # Calculate profits\n",
        "    profits = 1000 - successful_purchases\n",
        "\n",
        "    # Compile results\n",
        "    total_purchases = len(successful_purchases)\n",
        "    total_profit = np.sum(profits)\n",
        "\n",
        "    return total_purchases, total_profit"
      ],
      "metadata": {
        "id": "w_yHS2keInP3"
      },
      "execution_count": null,
      "outputs": []
    },
    {
      "cell_type": "code",
      "source": [
        "# Example usage\n",
        "low_bid = 910\n",
        "high_bid = 980\n",
        "total_purchases, total_profit = simulate_trades(low_bid, high_bid)\n",
        "print(f\"Total Purchases: {total_purchases}, Total Profit: {total_profit}\")"
      ],
      "metadata": {
        "colab": {
          "base_uri": "https://localhost:8080/"
        },
        "id": "SRkO-LKQHeOy",
        "outputId": "bd352f83-e1e4-49c4-d0f3-52a15c86a955"
      },
      "execution_count": null,
      "outputs": [
        {
          "output_type": "stream",
          "name": "stdout",
          "text": [
            "Total Purchases: 6334, Total Profit: 291862.4964225454\n"
          ]
        }
      ]
    },
    {
      "cell_type": "code",
      "source": [
        "total_purchases, total_profit = simulate_trades(900, 999)\n",
        "print(f\"Total Purchases: {total_purchases}, Total Profit: {total_profit}\")"
      ],
      "metadata": {
        "colab": {
          "base_uri": "https://localhost:8080/"
        },
        "id": "P43S5veAIHrV",
        "outputId": "a5843d26-f533-44a9-e58c-2a859293cad9"
      },
      "execution_count": null,
      "outputs": [
        {
          "output_type": "stream",
          "name": "stdout",
          "text": [
            "Total Purchases: 9804, Total Profit: 339079.1434767821\n"
          ]
        }
      ]
    },
    {
      "cell_type": "code",
      "source": [
        "step = 0.0199\n",
        "tot = 0\n",
        "cur = 0\n",
        "\n",
        "res = []\n",
        "\n",
        "for i in range(100):\n",
        "  cur += step\n",
        "  tot += cur\n",
        "  res.append(cur)\n",
        "\n",
        "print(tot)\n",
        "print(res)\n",
        "print(sum(res))"
      ],
      "metadata": {
        "colab": {
          "base_uri": "https://localhost:8080/"
        },
        "id": "1m9UV4LrJM8I",
        "outputId": "0d0cf130-45e7-47cc-d507-30d9b08672ba"
      },
      "execution_count": null,
      "outputs": [
        {
          "output_type": "stream",
          "name": "stdout",
          "text": [
            "100.49500000000009\n",
            "[0.0199, 0.0398, 0.0597, 0.0796, 0.0995, 0.1194, 0.1393, 0.1592, 0.1791, 0.199, 0.2189, 0.2388, 0.25870000000000004, 0.27860000000000007, 0.2985000000000001, 0.3184000000000001, 0.33830000000000016, 0.3582000000000002, 0.3781000000000002, 0.39800000000000024, 0.41790000000000027, 0.4378000000000003, 0.45770000000000033, 0.47760000000000036, 0.4975000000000004, 0.5174000000000004, 0.5373000000000004, 0.5572000000000005, 0.5771000000000005, 0.5970000000000005, 0.6169000000000006, 0.6368000000000006, 0.6567000000000006, 0.6766000000000006, 0.6965000000000007, 0.7164000000000007, 0.7363000000000007, 0.7562000000000008, 0.7761000000000008, 0.7960000000000008, 0.8159000000000008, 0.8358000000000009, 0.8557000000000009, 0.8756000000000009, 0.895500000000001, 0.915400000000001, 0.935300000000001, 0.955200000000001, 0.9751000000000011, 0.9950000000000011, 1.014900000000001, 1.034800000000001, 1.054700000000001, 1.074600000000001, 1.0945000000000011, 1.1144000000000012, 1.1343000000000012, 1.1542000000000012, 1.1741000000000013, 1.1940000000000013, 1.2139000000000013, 1.2338000000000013, 1.2537000000000014, 1.2736000000000014, 1.2935000000000014, 1.3134000000000015, 1.3333000000000015, 1.3532000000000015, 1.3731000000000015, 1.3930000000000016, 1.4129000000000016, 1.4328000000000016, 1.4527000000000017, 1.4726000000000017, 1.4925000000000017, 1.5124000000000017, 1.5323000000000018, 1.5522000000000018, 1.5721000000000018, 1.5920000000000019, 1.6119000000000019, 1.631800000000002, 1.651700000000002, 1.671600000000002, 1.691500000000002, 1.711400000000002, 1.731300000000002, 1.751200000000002, 1.7711000000000021, 1.7910000000000021, 1.8109000000000022, 1.8308000000000022, 1.8507000000000022, 1.8706000000000023, 1.8905000000000023, 1.9104000000000023, 1.9303000000000023, 1.9502000000000024, 1.9701000000000024, 1.9900000000000024]\n",
            "100.49500000000009\n"
          ]
        }
      ]
    },
    {
      "cell_type": "code",
      "source": [
        "import numpy as np\n",
        "\n",
        "def weighted_random_number(probabilities):\n",
        "    \"\"\"\n",
        "    Generates a random number based on a list of probabilities.\n",
        "\n",
        "    :param probabilities: A list of probabilities corresponding to numbers 1, 2, ..., n\n",
        "    :return: A number picked based on the given probabilities\n",
        "    \"\"\"\n",
        "    # Calculate the cumulative distribution function (CDF)\n",
        "    cdf = np.cumsum(probabilities)\n",
        "\n",
        "    print(cdf)\n",
        "\n",
        "    # Generate a random number in the range [0, 1]\n",
        "    r = np.random.rand()\n",
        "\n",
        "    print(sum(cdf))\n",
        "\n",
        "    # Find the index of the first value in the CDF that is greater than or equal to r\n",
        "    index = np.searchsorted(cdf, r)\n",
        "\n",
        "    # The number is the index + 1 (since Python indexing starts at 0)\n",
        "    return index + 1\n",
        "\n",
        "print(weighted_random_number(res))"
      ],
      "metadata": {
        "colab": {
          "base_uri": "https://localhost:8080/"
        },
        "id": "15t_n04gKUXA",
        "outputId": "dbb4fad8-ff28-46c3-fb4e-aee964fbe486"
      },
      "execution_count": null,
      "outputs": [
        {
          "output_type": "stream",
          "name": "stdout",
          "text": [
            "[1.99000e-02 5.97000e-02 1.19400e-01 1.99000e-01 2.98500e-01 4.17900e-01\n",
            " 5.57200e-01 7.16400e-01 8.95500e-01 1.09450e+00 1.31340e+00 1.55220e+00\n",
            " 1.81090e+00 2.08950e+00 2.38800e+00 2.70640e+00 3.04470e+00 3.40290e+00\n",
            " 3.78100e+00 4.17900e+00 4.59690e+00 5.03470e+00 5.49240e+00 5.97000e+00\n",
            " 6.46750e+00 6.98490e+00 7.52220e+00 8.07940e+00 8.65650e+00 9.25350e+00\n",
            " 9.87040e+00 1.05072e+01 1.11639e+01 1.18405e+01 1.25370e+01 1.32534e+01\n",
            " 1.39897e+01 1.47459e+01 1.55220e+01 1.63180e+01 1.71339e+01 1.79697e+01\n",
            " 1.88254e+01 1.97010e+01 2.05965e+01 2.15119e+01 2.24472e+01 2.34024e+01\n",
            " 2.43775e+01 2.53725e+01 2.63874e+01 2.74222e+01 2.84769e+01 2.95515e+01\n",
            " 3.06460e+01 3.17604e+01 3.28947e+01 3.40489e+01 3.52230e+01 3.64170e+01\n",
            " 3.76309e+01 3.88647e+01 4.01184e+01 4.13920e+01 4.26855e+01 4.39989e+01\n",
            " 4.53322e+01 4.66854e+01 4.80585e+01 4.94515e+01 5.08644e+01 5.22972e+01\n",
            " 5.37499e+01 5.52225e+01 5.67150e+01 5.82274e+01 5.97597e+01 6.13119e+01\n",
            " 6.28840e+01 6.44760e+01 6.60879e+01 6.77197e+01 6.93714e+01 7.10430e+01\n",
            " 7.27345e+01 7.44459e+01 7.61772e+01 7.79284e+01 7.96995e+01 8.14905e+01\n",
            " 8.33014e+01 8.51322e+01 8.69829e+01 8.88535e+01 9.07440e+01 9.26544e+01\n",
            " 9.45847e+01 9.65349e+01 9.85050e+01 1.00495e+02]\n",
            "3416.830000000003\n",
            "7\n"
          ]
        }
      ]
    }
  ]
}